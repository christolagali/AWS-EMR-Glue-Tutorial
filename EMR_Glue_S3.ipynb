{
 "cells": [
  {
   "cell_type": "code",
   "execution_count": null,
   "metadata": {},
   "outputs": [],
   "source": []
  },
  {
   "cell_type": "code",
   "execution_count": 2,
   "metadata": {},
   "outputs": [],
   "source": [
    "spark = SparkSession.builder.appName(\"myjob\").config(\"hive.metastore.client.factory.class\", \"com.amazonaws.glue.catalog.metastore.AWSGlueDataCatalogHiveClientFactory\").enableHiveSupport().getOrCreate()\n",
    "spark.catalog.setCurrentDatabase(\"glue-blog-tutorial-db\")"
   ]
  },
  {
   "cell_type": "code",
   "execution_count": null,
   "metadata": {},
   "outputs": [],
   "source": []
  },
  {
   "cell_type": "code",
   "execution_count": 3,
   "metadata": {},
   "outputs": [],
   "source": [
    "movie_data = spark.sql(\"select * from movie_txt\")"
   ]
  },
  {
   "cell_type": "code",
   "execution_count": 5,
   "metadata": {},
   "outputs": [
    {
     "name": "stdout",
     "output_type": "stream",
     "text": [
      "+----+--------------------+----+------+\n",
      "|rank|         movie_title|year|rating|\n",
      "+----+--------------------+----+------+\n",
      "|null|         movie_title|null|  null|\n",
      "|   1|The Shawshank Red...|1994|   9.2|\n",
      "|   2|       The Godfather|1972|   9.2|\n",
      "|   3|The Godfather: Pa...|1974|   9.0|\n",
      "|   4|     The Dark Knight|2008|   9.0|\n",
      "|   5|        12 Angry Men|1957|   8.9|\n",
      "|   6|    Schindler's List|1993|   8.9|\n",
      "|   7|The Lord of the R...|2003|   8.9|\n",
      "|   8|        Pulp Fiction|1994|   8.9|\n",
      "|   9|The Lord of the R...|2001|   8.8|\n",
      "|  10|          Fight Club|1999|   8.8|\n",
      "+----+--------------------+----+------+\n",
      "\n"
     ]
    }
   ],
   "source": [
    "movie_data.show()"
   ]
  }
 ],
 "metadata": {
  "kernelspec": {
   "display_name": "Python 3",
   "language": "python",
   "name": "python3"
  },
  "language_info": {
   "codemirror_mode": {
    "name": "ipython",
    "version": 3
   },
   "file_extension": ".py",
   "mimetype": "text/x-python",
   "name": "python",
   "nbconvert_exporter": "python",
   "pygments_lexer": "ipython3",
   "version": "3.7.1"
  }
 },
 "nbformat": 4,
 "nbformat_minor": 2
}
